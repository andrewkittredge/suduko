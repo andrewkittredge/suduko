{
 "metadata": {
  "name": "",
  "signature": "sha256:e05a6663ace6521db838ee8e9d2e40e80d01d7baf446d7983bbf7ec4aeae865c"
 },
 "nbformat": 3,
 "nbformat_minor": 0,
 "worksheets": [
  {
   "cells": [
    {
     "cell_type": "code",
     "collapsed": false,
     "input": [
      "from collections import defaultdict"
     ],
     "language": "python",
     "metadata": {},
     "outputs": [],
     "prompt_number": 11
    },
    {
     "cell_type": "code",
     "collapsed": false,
     "input": [
      "#Nov 26 Hard\n",
      "nov_26_hard = \"\"\"\\\n",
      " 1\n",
      "4 7\n",
      "  3\n",
      "4\n",
      " 3\n",
      " 7\n",
      "3\n",
      "  6\n",
      " 5\n",
      "7\n",
      " 3\n",
      "8\n",
      "28\n",
      "\n",
      " 67\n",
      "  1\n",
      " 8\n",
      "  2\n",
      " 9\n",
      "2\n",
      "  8\n",
      " 1\n",
      " 4\n",
      "  9\n",
      "8\n",
      "7 9\n",
      " 6\n",
      "\"\"\""
     ],
     "language": "python",
     "metadata": {},
     "outputs": [],
     "prompt_number": 59
    },
    {
     "cell_type": "code",
     "collapsed": false,
     "input": [
      "#Nov 24, easy\n",
      "nov_24_easy = '''\\\n",
      "721\n",
      "\n",
      "\n",
      "\n",
      " 71\n",
      "6\n",
      "53\n",
      "  9\n",
      "8 7\n",
      " 72\n",
      "9\n",
      "\n",
      "\n",
      "3 6\n",
      "\n",
      "\n",
      "  4\n",
      "68\n",
      "2 4\n",
      "8\n",
      " 67\n",
      "  7\n",
      "43\n",
      "\n",
      "\n",
      "\n",
      "341\n",
      "'''"
     ],
     "language": "python",
     "metadata": {},
     "outputs": [],
     "prompt_number": 4
    },
    {
     "cell_type": "code",
     "collapsed": false,
     "input": [
      "def build_grid(puzzle):\n",
      "    puzzle_lines = puzzle.splitlines()\n",
      "    grid = []\n",
      "    for output_line in generate_output_lines():\n",
      "        grid.append(generate_output_row(output_line, puzzle_lines))\n",
      "    return grid\n",
      "\n",
      "def generate_output_row(row_indexes, _input):\n",
      "    output_row = []\n",
      "    for row_index in row_indexes:\n",
      "        values = _input[row_index]\n",
      "        for column_index in (0, 1, 2):\n",
      "            try:\n",
      "                input_value = values[column_index]\n",
      "            except IndexError:\n",
      "                value = None\n",
      "            else:\n",
      "                value = input_value.isdigit() and int(input_value)\n",
      "            output_row.append(value)\n",
      "    return output_row\n",
      "\n",
      "def generate_output_lines():\n",
      "    for grid_row_index in (0, 1, 2):\n",
      "        for nine_block_row_index in (0, 1, 2):                \n",
      "            yield [nine_block_row_index + (offset * 3) + (grid_row_index * 9) for offset in (0, 1, 2)]"
     ],
     "language": "python",
     "metadata": {},
     "outputs": [],
     "prompt_number": 5
    },
    {
     "cell_type": "code",
     "collapsed": false,
     "input": [
      "class GridSquare(object):\n",
      "    all_possible_values = set(range(1, 10))\n",
      "    def __init__(self, value, row, column, sub_grid):\n",
      "        self.value = value\n",
      "        self.row = row\n",
      "        self.column = column\n",
      "        self.sub_grid = sub_grid\n",
      "        self.row.add(self)\n",
      "        self.column.add(self)\n",
      "        self.sub_grid.add(self)\n",
      "     \n",
      "    @property\n",
      "    def possible_values(self):\n",
      "        same_row_values = self.collection_values(self.row)\n",
      "        same_column_values = self.collection_values(self.column)\n",
      "        same_sub_grid_values = self.collection_values(self.sub_grid)\n",
      "        return (((self.all_possible_values - same_row_values) - same_column_values) - same_sub_grid_values)\n",
      "    \n",
      "    @staticmethod\n",
      "    def collection_values(collection):\n",
      "        return set(square.value for square in collection if square.value)\n",
      "    \n",
      "    def __repr__(self):\n",
      "        return self.value and str(self.value) or ' '"
     ],
     "language": "python",
     "metadata": {},
     "outputs": [],
     "prompt_number": 42
    },
    {
     "cell_type": "code",
     "collapsed": false,
     "input": [
      "sub_grid_map = {0 : 0, \n",
      "                1 : 0, \n",
      "                2 : 0, \n",
      "                3 : 1, \n",
      "                4 : 1, \n",
      "                5 : 1, \n",
      "                6 : 2, \n",
      "                7 : 2, \n",
      "                8 : 2}\n",
      "def link_grid(grid):\n",
      "    rows = [set() for _ in range(9)]\n",
      "    columns = [set() for _ in range(9)]\n",
      "    sub_grids = defaultdict(set)\n",
      "    empty_squares = set()\n",
      "    dynamic_grid = [[] for _ in range(9)]\n",
      "    \n",
      "    for y in range(9):\n",
      "        for x in range(9):\n",
      "            value = grid[y][x]\n",
      "            row = rows[y]\n",
      "            column = columns[x]\n",
      "            sub_grid = sub_grids[(sub_grid_map[x], sub_grid_map[y])]\n",
      "            square = GridSquare(value, row, column, sub_grid)\n",
      "            if not value:\n",
      "                empty_squares.add(square)\n",
      "            dynamic_grid[y].append(square)\n",
      "    return dynamic_grid, empty_squares"
     ],
     "language": "python",
     "metadata": {},
     "outputs": [],
     "prompt_number": 17
    },
    {
     "cell_type": "code",
     "collapsed": false,
     "input": [
      "def solve(empty_squares):\n",
      "    next_square = sorted(empty_squares, key=lambda square : len(square.possible_values))[0]\n",
      "    empty_squares.remove(next_square)\n",
      "    if not empty_squares:\n",
      "        next_square.value = next_square.possible_values.pop()\n",
      "        return True\n",
      "    else:\n",
      "        for possible_value in next_square.possible_values:\n",
      "            next_square.value = possible_value\n",
      "            solution = solve(empty_squares)\n",
      "            if solution:\n",
      "                return True\n",
      "            else:\n",
      "                continue\n",
      "        else:\n",
      "            next_square.value = None\n",
      "            empty_squares.add(next_square)\n",
      "            return False\n",
      "            "
     ],
     "language": "python",
     "metadata": {},
     "outputs": [],
     "prompt_number": 74
    },
    {
     "cell_type": "code",
     "collapsed": false,
     "input": [
      "grid = build_grid(nov_26_hard)\n",
      "linked_grid, empty_squares = link_grid(grid)\n",
      "%prun solve(empty_squares)"
     ],
     "language": "python",
     "metadata": {},
     "outputs": [
      {
       "output_type": "stream",
       "stream": "stdout",
       "text": [
        " "
       ]
      }
     ],
     "prompt_number": 78
    },
    {
     "cell_type": "code",
     "collapsed": false,
     "input": [
      "linked_grid"
     ],
     "language": "python",
     "metadata": {},
     "outputs": [
      {
       "metadata": {},
       "output_type": "pyout",
       "prompt_number": 72,
       "text": [
        "[[5, 1, 9, 4,  , 8, 3, 2,  ],\n",
        " [4, 8, 7, 9, 3,  ,  , 1, 6],\n",
        " [ ,  , 3,  , 7, 6, 4, 5, 8],\n",
        " [7,  , 5, 2, 8, 4, 9,  , 1],\n",
        " [6, 3, 1, 5,  ,  ,  , 8, 7],\n",
        " [8,  , 4, 1, 6, 7,  , 3, 2],\n",
        " [ , 9, 6, 3, 1, 2, 8,  , 4],\n",
        " [2,  ,  , 8, 4, 5, 7,  , 9],\n",
        " [ , 4, 8,  ,  , 9, 1, 6, 3]]"
       ]
      }
     ],
     "prompt_number": 72
    },
    {
     "cell_type": "code",
     "collapsed": false,
     "input": [],
     "language": "python",
     "metadata": {},
     "outputs": []
    }
   ],
   "metadata": {}
  }
 ]
}